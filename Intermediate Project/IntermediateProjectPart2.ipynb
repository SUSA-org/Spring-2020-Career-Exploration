{
 "cells": [
  {
   "cell_type": "markdown",
   "metadata": {},
   "source": [
    "# Intermediate Project - SAAS Career Exploration - Part 2\n",
    "\n",
    "For this project, you will be using the tools that you have learned so far on a real data science problem. You will be cleaning and analyzing a dataset to answer a research question, something that you will be doing for your entire career if you continue down this path.\n",
    "\n",
    "This project will be done **in groups**. If you can, please stay with the same groups as for part 1! If you are having trouble finding a partner, please contact your committee director or post on the Career-Exploration Slack channel.\n",
    "\n",
    "The final product for this project will be a statistical model that answers a question posed about the data, in addition to a short description about how your model works and its limitations."
   ]
  },
  {
   "cell_type": "code",
   "execution_count": null,
   "metadata": {
    "ExecuteTime": {
     "end_time": "2020-03-02T00:57:18.130684Z",
     "start_time": "2020-03-02T00:57:15.210226Z"
    }
   },
   "outputs": [],
   "source": [
    "# Setup code\n",
    "import seaborn as sns #; sns.set()\n",
    "import csv\n",
    "import numpy as np\n",
    "import pandas as pd\n",
    "import matplotlib.pyplot as plt\n",
    "import matplotlib.cm as cm\n",
    "\n",
    "%matplotlib inline\n",
    "plt.rcParams['figure.figsize'] = (16,8)\n",
    "plt.rcParams['figure.dpi'] = 150\n",
    "sns.set()\n",
    "\n",
    "from IPython.display import display, Latex, Markdown\n",
    "\n",
    "general = pd.read_csv(\"2016-us-election/county_facts.csv\")\n",
    "column_dict_df = pd.read_csv(\"2016-us-election/county_facts_dictionary.csv\")\n",
    "primaries = pd.read_csv(\"2016-us-election/primary_results.csv\")"
   ]
  },
  {
   "cell_type": "markdown",
   "metadata": {},
   "source": [
    "Here is the necessary data cleaning. I join the voting data from `primaries` with the demographic data from `general` to create one big dataframe named `df`; please use this dataframe to make your plots. Note that this dataframe is missing some counties because there was no demographic data about those counties in `general`."
   ]
  },
  {
   "cell_type": "code",
   "execution_count": null,
   "metadata": {
    "ExecuteTime": {
     "end_time": "2020-03-02T00:57:21.210575Z",
     "start_time": "2020-03-02T00:57:21.194457Z"
    },
    "code_folding": [
     0
    ]
   },
   "outputs": [],
   "source": [
    "us_state_abbrev = {\n",
    "    'Alabama': 'AL',\n",
    "    'Alaska': 'AK',\n",
    "    'Arizona': 'AZ',\n",
    "    'Arkansas': 'AR',\n",
    "    'California': 'CA',\n",
    "    'Colorado': 'CO',\n",
    "    'Connecticut': 'CT',\n",
    "    'Delaware': 'DE',\n",
    "    'District of Columbia': 'DC',\n",
    "    'Florida': 'FL',\n",
    "    'Georgia': 'GA',\n",
    "    'Hawaii': 'HI',\n",
    "    'Idaho': 'ID',\n",
    "    'Illinois': 'IL',\n",
    "    'Indiana': 'IN',\n",
    "    'Iowa': 'IA',\n",
    "    'Kansas': 'KS',\n",
    "    'Kentucky': 'KY',\n",
    "    'Louisiana': 'LA',\n",
    "    'Maine': 'ME',\n",
    "    'Maryland': 'MD',\n",
    "    'Massachusetts': 'MA',\n",
    "    'Michigan': 'MI',\n",
    "    'Minnesota': 'MN',\n",
    "    'Mississippi': 'MS',\n",
    "    'Missouri': 'MO',\n",
    "    'Montana': 'MT',\n",
    "    'Nebraska': 'NE',\n",
    "    'Nevada': 'NV',\n",
    "    'New Hampshire': 'NH',\n",
    "    'New Jersey': 'NJ',\n",
    "    'New Mexico': 'NM',\n",
    "    'New York': 'NY',\n",
    "    'North Carolina': 'NC',\n",
    "    'North Dakota': 'ND',\n",
    "    'Northern Mariana Islands':'MP',\n",
    "    'Ohio': 'OH',\n",
    "    'Oklahoma': 'OK',\n",
    "    'Oregon': 'OR',\n",
    "    'Palau': 'PW',\n",
    "    'Pennsylvania': 'PA',\n",
    "    'Puerto Rico': 'PR',\n",
    "    'Rhode Island': 'RI',\n",
    "    'South Carolina': 'SC',\n",
    "    'South Dakota': 'SD',\n",
    "    'Tennessee': 'TN',\n",
    "    'Texas': 'TX',\n",
    "    'Utah': 'UT',\n",
    "    'Vermont': 'VT',\n",
    "    'Virgin Islands': 'VI',\n",
    "    'Virginia': 'VA',\n",
    "    'Washington': 'WA',\n",
    "    'West Virginia': 'WV',\n",
    "    'Wisconsin': 'WI',\n",
    "    'Wyoming': 'WY',\n",
    "}\n",
    "# Credit to https://gist.github.com/rogerallen/1583593"
   ]
  },
  {
   "cell_type": "code",
   "execution_count": null,
   "metadata": {
    "ExecuteTime": {
     "end_time": "2020-03-02T00:57:22.150179Z",
     "start_time": "2020-03-02T00:57:21.971770Z"
    }
   },
   "outputs": [],
   "source": [
    "# Turn the county_facts_dictionary.csv file into a dictionary\n",
    "column_dict = column_dict_df.set_index(\"column_name\").to_dict()['description']\n",
    "\n",
    "# Use that dictionary to rename the columns of general\n",
    "general.columns = general.columns.to_series().map(lambda x: column_dict.get(x,x))\n",
    "\n",
    "# Extract the rows corresponding to states from general (note that these are the rows with NaN in the \n",
    "# state_abbreviation column, minus the first row which is the whole US)\n",
    "states = general[general['state_abbreviation'].isnull()][1:].reset_index(drop=True)\n",
    "\n",
    "# Attach the state abbreviations to the states dataframe\n",
    "states[\"state_abbreviation\"] = general[\"state_abbreviation\"].unique()[1:]\n",
    "\n",
    "# Extract the rows corresponding to counties from general\n",
    "counties = general[~general['state_abbreviation'].isnull()].reset_index(drop=True)\n",
    "\n",
    "# Create the pivot table from last time\n",
    "pivot_table = pd.pivot_table(primaries,index=[\"state\",\"county\"],columns=\"candidate\",values=\"fraction_votes\")\n",
    "pivot_table.reset_index(inplace = True)\n",
    "\n",
    "# Join the two dataframes together\n",
    "pivot_table[\"state_abbreviation\"] = pivot_table[\"state\"].map(us_state_abbrev)\n",
    "pivot_table[\"state_county\"] = pivot_table[\"state_abbreviation\"] + \" \" + pivot_table['county'] + ' County'\n",
    "counties[\"state_county\"] = counties[\"state_abbreviation\"] + \" \" + counties[\"area_name\"]\n",
    "\n",
    "df = pd.merge(pivot_table,counties,on=\"state_county\")\n",
    "df.head()"
   ]
  },
  {
   "cell_type": "markdown",
   "metadata": {},
   "source": [
    "## 1. Plotting\n",
    "\n",
    "In this checkpoint, let's practice making some plots! For all of these parts, try to make your graphs presentation-ready; add a title, axis labels, and a legend if necessary. Someone else should be able to look at your graph and understand what it's saying without you explaining what's going on! **Also, throughout this project, make sure you make at least one plot using matplotlib and at least one plot using seaborn.**\n",
    "\n",
    "### 1.1. Scatterplots\n",
    "\n",
    "In the 2016 primaries, each party had a candidate who was a strong challenger to the establishment of the party - these two people were Donald Trump and Bernie Sanders. Given this dataset, one question we could ask is: were counties that voted for Sanders more or less likely to vote for Trump? <span style=\"color:blue\"> Make a scatterplot where the two axes are the proportion of people who voted for Sanders and Trump. Throughout this question and the rest of the notebook, please use the `df` dataframe. </span>"
   ]
  },
  {
   "cell_type": "code",
   "execution_count": null,
   "metadata": {
    "ExecuteTime": {
     "end_time": "2020-03-02T00:22:06.640691Z",
     "start_time": "2020-03-02T00:22:05.035704Z"
    }
   },
   "outputs": [],
   "source": [
    "# YOUR CODE HERE"
   ]
  },
  {
   "cell_type": "markdown",
   "metadata": {},
   "source": [
    "Interesting! This scatterplot is not a straightforward line going up or down - instead, it has a more complicated shape. What makes the graph look like this? To help us answer this question, let's add some color to our plot. <span style=\"color:blue\"> Color the plot based on the `'White alone, percent, 2014'` column from `df`, and write a short explanation of what you observe. </span> (White alone, not Hispanic or Latino are individuals who responded \"No, not Spanish/Hispanic/Latino\" and who reported \"White\" as their only entry in the race question.)"
   ]
  },
  {
   "cell_type": "code",
   "execution_count": null,
   "metadata": {
    "ExecuteTime": {
     "end_time": "2020-03-02T00:17:12.170160Z",
     "start_time": "2020-03-02T00:17:10.270552Z"
    }
   },
   "outputs": [],
   "source": [
    "# YOUR CODE HERE"
   ]
  },
  {
   "cell_type": "markdown",
   "metadata": {},
   "source": [
    "YOUR EXPLANATION HERE"
   ]
  },
  {
   "cell_type": "markdown",
   "metadata": {
    "ExecuteTime": {
     "end_time": "2020-03-02T00:42:32.641500Z",
     "start_time": "2020-03-02T00:42:32.622407Z"
    }
   },
   "source": [
    "### 1.2. Challenge Problem (Optional)\n",
    "<span style=\"color:blue\"> First, make a copy of the above plot, but use the column `'Asian-owned firms, percent, 2007 62'` for the coloring instead of the white alone column. </span>"
   ]
  },
  {
   "cell_type": "code",
   "execution_count": null,
   "metadata": {
    "ExecuteTime": {
     "end_time": "2020-03-02T00:51:04.694123Z",
     "start_time": "2020-03-02T00:51:04.691557Z"
    }
   },
   "outputs": [],
   "source": [
    "# YOUR CODE HERE"
   ]
  },
  {
   "cell_type": "markdown",
   "metadata": {},
   "source": [
    "We see that because there are a few outliers, the whole colormap becomes essentially the same color. <span style=\"color:blue\">Find a way to fix this without just removing the outliers!</span> (This is pretty open-ended, there are a couple of different approaches you could take.)"
   ]
  },
  {
   "cell_type": "code",
   "execution_count": null,
   "metadata": {},
   "outputs": [],
   "source": [
    "# YOUR CODE HERE"
   ]
  },
  {
   "cell_type": "markdown",
   "metadata": {},
   "source": [
    "### 1.3. Histograms\n",
    "\n",
    "<span style=\"color:blue\">First, pick one of the demographic variables (i.e. not the vote percentages) and make a histogram of that variable."
   ]
  },
  {
   "cell_type": "code",
   "execution_count": null,
   "metadata": {},
   "outputs": [],
   "source": [
    "# YOUR CODE HERE"
   ]
  },
  {
   "cell_type": "markdown",
   "metadata": {},
   "source": [
    "From the above histogram, you can see the distribution of the variable across the whole dataset. However, maybe we want to see how the distribution varies over different parts of the dataset. <span style=\"color:blue\">Break your dataset into (at least) two subsets based on one of the vote percentage columns (e.g. whether or not Hillary got >50% of the vote) and create histograms for each of those parts."
   ]
  },
  {
   "cell_type": "code",
   "execution_count": null,
   "metadata": {},
   "outputs": [],
   "source": [
    "# YOUR CODE HERE"
   ]
  },
  {
   "cell_type": "markdown",
   "metadata": {},
   "source": [
    "How are your histograms for each subset different? <span style=\"color:blue\">Write a short summary in words about what you see in your histograms."
   ]
  },
  {
   "cell_type": "markdown",
   "metadata": {},
   "source": [
    "YOUR RESPONSE HERE"
   ]
  },
  {
   "cell_type": "markdown",
   "metadata": {},
   "source": [
    "### 1.4. Your turn!\n",
    "\n",
    "<span style=\"color:blue\">Make one more graph of your own choosing out of any of the other kinds of graphs from the lecture. </span>Remember to add a title, axis labels, and a legend if necessary to make your plot readable!"
   ]
  },
  {
   "cell_type": "code",
   "execution_count": null,
   "metadata": {},
   "outputs": [],
   "source": [
    "# YOUR CODE HERE"
   ]
  },
  {
   "cell_type": "markdown",
   "metadata": {},
   "source": [
    "For this part as well, add your own interpretation about what you see in your graph."
   ]
  },
  {
   "cell_type": "markdown",
   "metadata": {},
   "source": [
    "YOUR RESPONSE HERE"
   ]
  },
  {
   "cell_type": "markdown",
   "metadata": {},
   "source": [
    "## 2. Submission\n",
    "\n",
    "**To submit, first save this file as a pdf by going to the top left and clicking File -> Download as -> PDF via LaTex (.pdf), then fill out this form!**\n",
    "\n",
    "https://docs.google.com/forms/d/e/1FAIpQLSdWVvpyAKW8yzo4VARry_XrC4Jpbh-wrKzT0mOezufj731OmA/viewform"
   ]
  }
 ],
 "metadata": {
  "hide_input": false,
  "kernelspec": {
   "display_name": "Python 3",
   "language": "python",
   "name": "python3"
  },
  "language_info": {
   "codemirror_mode": {
    "name": "ipython",
    "version": 3
   },
   "file_extension": ".py",
   "mimetype": "text/x-python",
   "name": "python",
   "nbconvert_exporter": "python",
   "pygments_lexer": "ipython3",
   "version": "3.7.1"
  },
  "toc": {
   "nav_menu": {},
   "number_sections": false,
   "sideBar": true,
   "skip_h1_title": false,
   "toc_cell": false,
   "toc_position": {},
   "toc_section_display": "block",
   "toc_window_display": false
  }
 },
 "nbformat": 4,
 "nbformat_minor": 2
}

{
 "cells": [
  {
   "cell_type": "markdown",
   "metadata": {},
   "source": [
    "# Intermediate Project - SAAS Career Exploration - Part 1\n",
    "\n",
    "For this project, you will be using the tools that you have learned so far on a real data science problem. You will be cleaning and analyzing a dataset to answer a research question, something that you will be doing for your entire career if you continue down this path.\n",
    "\n",
    "This project will be done **in groups of 2-3**. Modern research is collaborative, so get used to it! If you are having trouble finding a partner(s), please message your family channels. The first part of the project is due **this Sunday (March 1st) at 3pm**.\n",
    "\n",
    "Parts that you need to complete <span style=\"color:blue\">will be written in blue</span> and have `#TODO` next to them.\n",
    "\n",
    "The final product for this project will be a statistical model that answers a question posed about the data, in addition to a short description about how your model works and its limitations.\n",
    "\n",
    "## 1. The Dataset\n",
    "\n",
    "### 2016 US Election from Kaggle\n",
    "\n",
    "https://www.kaggle.com/benhamner/2016-us-election/data\n",
    "\n",
    "This dataset gives results from the 2016 Democratic primaries for the US presidential election. The results themselves are stored in the ``primaries`` dataframe, while information about each county and state is stored in the ``general`` dataframe.\n"
   ]
  },
  {
   "cell_type": "code",
   "execution_count": null,
   "metadata": {
    "ExecuteTime": {
     "end_time": "2020-02-24T19:36:41.525184Z",
     "start_time": "2020-02-24T19:36:39.719159Z"
    }
   },
   "outputs": [],
   "source": [
    "import matplotlib.pyplot as plt\n",
    "%matplotlib inline\n",
    "import random\n",
    "import numpy as np\n",
    "import pandas as pd\n",
    "\n",
    "general = pd.read_csv(\"2016-us-election/county_facts.csv\")\n",
    "column_dict_df = pd.read_csv(\"2016-us-election/county_facts_dictionary.csv\")\n",
    "primaries = pd.read_csv(\"2016-us-election/primary_results.csv\")"
   ]
  },
  {
   "cell_type": "markdown",
   "metadata": {},
   "source": [
    "### 1.1. Cleaning general"
   ]
  },
  {
   "cell_type": "markdown",
   "metadata": {},
   "source": [
    "First, we have to clean the data to make it a little bit easier for us to use. What's wrong with it now? <span style=\"color:blue\">Well, let's start off by examining the `general` dataframe using the `.head()` command.</span>"
   ]
  },
  {
   "cell_type": "code",
   "execution_count": null,
   "metadata": {
    "ExecuteTime": {
     "end_time": "2020-02-23T22:59:27.761595Z",
     "start_time": "2020-02-23T22:59:27.715934Z"
    }
   },
   "outputs": [],
   "source": [
    "# TODO: Your code here"
   ]
  },
  {
   "cell_type": "markdown",
   "metadata": {},
   "source": [
    "Oh no! What are those column names? Why do we have states and counties in the same table? Why don't the states have abbreviations? Dealing with problems like these is called *data cleaning*, and is frequently one of the most important and most time-intensive parts of data science. Lucky for you, I've done the data cleaning already! <span style=\"color:blue\">Skim through the code below just to get a general idea of what's going on, but please don't worry about every last detail of what it does.</span>"
   ]
  },
  {
   "cell_type": "code",
   "execution_count": null,
   "metadata": {
    "ExecuteTime": {
     "end_time": "2020-02-23T22:59:28.647753Z",
     "start_time": "2020-02-23T22:59:28.626568Z"
    }
   },
   "outputs": [],
   "source": [
    "# Turn the county_facts_dictionary.csv file into a dictionary\n",
    "column_dict = column_dict_df.set_index(\"column_name\").to_dict()['description']\n",
    "\n",
    "# Use that dictionary to rename the columns of general\n",
    "general.columns = general.columns.to_series().map(lambda x: column_dict.get(x,x))\n",
    "\n",
    "# Extract the rows corresponding to states from general (note that these are the rows with NaN in the \n",
    "# state_abbreviation column, minus the first row which is the whole US)\n",
    "states = general[general['state_abbreviation'].isnull()][1:].reset_index(drop=True)\n",
    "\n",
    "# Attach the state abbreviations to the states dataframe\n",
    "states[\"state_abbreviation\"] = general[\"state_abbreviation\"].unique()[1:]\n",
    "\n",
    "# Extract the rows corresponding to counties from general\n",
    "counties = general[~general['state_abbreviation'].isnull()].reset_index(drop=True)"
   ]
  },
  {
   "cell_type": "code",
   "execution_count": null,
   "metadata": {
    "ExecuteTime": {
     "end_time": "2020-02-23T22:59:29.208021Z",
     "start_time": "2020-02-23T22:59:29.162652Z"
    }
   },
   "outputs": [],
   "source": [
    "states.head()"
   ]
  },
  {
   "cell_type": "code",
   "execution_count": null,
   "metadata": {
    "ExecuteTime": {
     "end_time": "2020-02-23T22:59:30.635552Z",
     "start_time": "2020-02-23T22:59:30.583858Z"
    }
   },
   "outputs": [],
   "source": [
    "counties.head()"
   ]
  },
  {
   "cell_type": "markdown",
   "metadata": {},
   "source": [
    "### 1.2. Cleaning primaries"
   ]
  },
  {
   "cell_type": "markdown",
   "metadata": {},
   "source": [
    "Next, let's look at the `primaries` dataframe."
   ]
  },
  {
   "cell_type": "code",
   "execution_count": null,
   "metadata": {
    "ExecuteTime": {
     "end_time": "2020-02-24T04:56:53.632551Z",
     "start_time": "2020-02-24T04:56:53.581884Z"
    }
   },
   "outputs": [],
   "source": [
    "primaries.head()"
   ]
  },
  {
   "cell_type": "markdown",
   "metadata": {},
   "source": [
    "For future parts of this project, it would be much easier for us if we only had one row per county which had the votes for all the candidates.<span style=\"color:blue\"> Do this using a pivot table where the index is the state *and the county* (you can pass a list of multiple column names into the `index` argument), the columns are the candidates, and the values are the fraction of votes that each candidate received. </span> Hint: You can use the same function from lecture, just replace the arguments appropriately."
   ]
  },
  {
   "cell_type": "code",
   "execution_count": null,
   "metadata": {
    "ExecuteTime": {
     "end_time": "2020-02-24T04:32:16.204761Z",
     "start_time": "2020-02-24T04:32:16.151091Z"
    }
   },
   "outputs": [],
   "source": [
    "# TODO: Create the pivot table as described above.\n",
    "pivot_table = #YOUR CODE HERE"
   ]
  },
  {
   "cell_type": "code",
   "execution_count": null,
   "metadata": {
    "ExecuteTime": {
     "end_time": "2020-02-24T04:32:16.568251Z",
     "start_time": "2020-02-24T04:32:16.524716Z"
    }
   },
   "outputs": [],
   "source": [
    "# TODO: Run this cell after filling out the above to make the indices into columns.\n",
    "pivot_table.reset_index(inplace = True)\n",
    "pivot_table.head()"
   ]
  },
  {
   "cell_type": "markdown",
   "metadata": {
    "ExecuteTime": {
     "end_time": "2020-02-24T05:17:23.711769Z",
     "start_time": "2020-02-24T05:17:23.706579Z"
    }
   },
   "source": [
    "### 1.3. Unique counties"
   ]
  },
  {
   "cell_type": "markdown",
   "metadata": {},
   "source": [
    "Why do we need to index by both state and county? Well, it turns out that there are tons of counties with duplicate names! We wouldn't want to accidentally combine all of the counties named \"Calhoun County\" over all the states with that county. (There's a \"Calhoun County\" in eleven states!!) <span style=\"color:blue\"> Let's try to figure out how many unique county names there are; use the `.unique()` function on the `county` column to find the number of unique column names, and compare that with the number of rows in the pivot table. </span>"
   ]
  },
  {
   "cell_type": "code",
   "execution_count": null,
   "metadata": {
    "ExecuteTime": {
     "end_time": "2020-02-24T04:41:27.511644Z",
     "start_time": "2020-02-24T04:41:27.502314Z"
    }
   },
   "outputs": [],
   "source": [
    "# TODO: Find the number of unique county names.\n",
    "uniques =  # YOUR CODE HERE\n",
    "len(uniques)"
   ]
  },
  {
   "cell_type": "code",
   "execution_count": null,
   "metadata": {
    "ExecuteTime": {
     "end_time": "2020-02-24T04:42:18.561954Z",
     "start_time": "2020-02-24T04:42:18.554150Z"
    }
   },
   "outputs": [],
   "source": [
    "# TODO: Find the number of rows in pivot_table to see how many different counties there actually are.\n"
   ]
  },
  {
   "cell_type": "markdown",
   "metadata": {},
   "source": [
    "### 1.4. Lake County"
   ]
  },
  {
   "cell_type": "markdown",
   "metadata": {},
   "source": [
    "More than a third of the counties don't have a unique name! <span style=\"color:blue\"> The county I'm from is called \"Lake County\" - how many different states could I be from?</span>"
   ]
  },
  {
   "cell_type": "code",
   "execution_count": null,
   "metadata": {
    "ExecuteTime": {
     "end_time": "2020-02-24T04:52:27.157999Z",
     "start_time": "2020-02-24T04:52:27.145351Z"
    }
   },
   "outputs": [],
   "source": [
    "# TODO: Find the number of states with a county named \"Lake\" (or the county you're from if you'd prefer).\n"
   ]
  },
  {
   "cell_type": "markdown",
   "metadata": {},
   "source": [
    "### 1.5. Challenge problem! (Optional)"
   ]
  },
  {
   "cell_type": "markdown",
   "metadata": {},
   "source": [
    "CHALLENGE PROBLEM: Find the county name that is duplicated the most often. If you can, try doing this without any loops!"
   ]
  },
  {
   "cell_type": "code",
   "execution_count": null,
   "metadata": {
    "ExecuteTime": {
     "end_time": "2020-02-24T05:01:04.053599Z",
     "start_time": "2020-02-24T05:00:52.337036Z"
    }
   },
   "outputs": [],
   "source": [
    "# TODO: Your code here\n"
   ]
  },
  {
   "cell_type": "markdown",
   "metadata": {},
   "source": [
    "## 2. Submission\n",
    "\n",
    "**To submit, first save this file as a pdf by going to the top left and clicking File -> Download as -> PDF via LaTex (.pdf), then fill out this form!**\n",
    "\n",
    "https://docs.google.com/forms/d/e/1FAIpQLSfC959ud0v9C9vZBEM2U41ryAQA5DsgU4d56_BnSVCfYEsTZw/viewform?fbclid=IwAR0s64G8p3U2NNFgzNHTV6vuAxCLd1redLc6SEgW77gCNfx39p8VORhPkt4"
   ]
  }
 ],
 "metadata": {
  "hide_input": false,
  "kernelspec": {
   "display_name": "Python 3",
   "language": "python",
   "name": "python3"
  },
  "language_info": {
   "codemirror_mode": {
    "name": "ipython",
    "version": 3
   },
   "file_extension": ".py",
   "mimetype": "text/x-python",
   "name": "python",
   "nbconvert_exporter": "python",
   "pygments_lexer": "ipython3",
   "version": "3.7.1"
  },
  "toc": {
   "nav_menu": {},
   "number_sections": false,
   "sideBar": true,
   "skip_h1_title": false,
   "toc_cell": false,
   "toc_position": {},
   "toc_section_display": "block",
   "toc_window_display": false
  }
 },
 "nbformat": 4,
 "nbformat_minor": 2
}
